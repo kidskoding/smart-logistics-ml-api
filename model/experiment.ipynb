{
 "cells": [
  {
   "cell_type": "code",
   "execution_count": 1,
   "id": "b7a78689",
   "metadata": {},
   "outputs": [],
   "source": [
    "from sqlalchemy import create_engine\n",
    "import pandas as pd\n",
    "from dotenv import load_dotenv\n",
    "import os"
   ]
  },
  {
   "cell_type": "code",
   "execution_count": 2,
   "id": "4e586fa5",
   "metadata": {},
   "outputs": [
    {
     "data": {
      "text/plain": [
       "True"
      ]
     },
     "execution_count": 2,
     "metadata": {},
     "output_type": "execute_result"
    }
   ],
   "source": [
    "load_dotenv()"
   ]
  },
  {
   "cell_type": "code",
   "execution_count": 3,
   "id": "962f1b54",
   "metadata": {},
   "outputs": [],
   "source": [
    "db_url = os.getenv(\"DATABASE_URL\").replace(\"postgres://\", \"postgresql://\")\n",
    "if db_url is None:\n",
    "    raise ValueError(\"DATABASE_URL not found in .env file\")"
   ]
  },
  {
   "cell_type": "code",
   "execution_count": 4,
   "id": "5cef6fad",
   "metadata": {},
   "outputs": [],
   "source": [
    "engine = create_engine(db_url)"
   ]
  },
  {
   "cell_type": "code",
   "execution_count": 5,
   "id": "c8b9f8eb",
   "metadata": {},
   "outputs": [],
   "source": [
    "tracking_info_df = pd.read_sql(\"SELECT * FROM tracking_info\", engine)\n",
    "timestamps_df = pd.read_sql(\"SELECT * FROM timestamps\", engine)"
   ]
  },
  {
   "cell_type": "code",
   "execution_count": 6,
   "id": "e4f2b2e2",
   "metadata": {},
   "outputs": [
    {
     "name": "stdout",
     "output_type": "stream",
     "text": [
      "       tracking_id carrier delivery_date     status      city state  length  \\\n",
      "0  509466710003247    FDXG    2007-09-27  Delivered  Santa Fe    NM      19   \n",
      "\n",
      "   width  height  weight  \n",
      "0     10       9    20.0  \n",
      "\n",
      "    tracking_info_id                               event        date  \\\n",
      "0    509466710003247                           Delivered  2007-09-27   \n",
      "1    509466710003247       On FedEx vehicle for delivery  2007-09-27   \n",
      "2    509466710003247             At local FedEx facility  2007-09-27   \n",
      "3    509466710003247             Departed FedEx location  2007-09-26   \n",
      "4    509466710003247           Arrived at FedEx location  2007-09-26   \n",
      "5    509466710003247             Departed FedEx location  2007-09-25   \n",
      "6    509466710003247           Arrived at FedEx location  2007-09-25   \n",
      "7    509466710003247          Left FedEx origin facility  2007-09-24   \n",
      "8    509466710003247           Arrived at FedEx location  2007-09-24   \n",
      "9    509466710003247                           Picked up  2007-09-24   \n",
      "10   509466710003247  Shipment information sent to FedEx  2007-09-24   \n",
      "\n",
      "              time  \n",
      "0   09:17:02-06:00  \n",
      "1   04:29:00-06:00  \n",
      "2   03:54:44-06:00  \n",
      "3   14:11:37-06:00  \n",
      "4   12:48:00-06:00  \n",
      "5   10:20:00-05:00  \n",
      "6   01:27:00-05:00  \n",
      "7   21:14:09-05:00  \n",
      "8   18:53:00-05:00  \n",
      "9   15:24:00-05:00  \n",
      "10  13:09:00-05:00  \n"
     ]
    }
   ],
   "source": [
    "print(f'{tracking_info_df.head()}\\n')\n",
    "print(timestamps_df)"
   ]
  }
 ],
 "metadata": {
  "kernelspec": {
   "display_name": ".venv",
   "language": "python",
   "name": "python3"
  },
  "language_info": {
   "codemirror_mode": {
    "name": "ipython",
    "version": 3
   },
   "file_extension": ".py",
   "mimetype": "text/x-python",
   "name": "python",
   "nbconvert_exporter": "python",
   "pygments_lexer": "ipython3",
   "version": "3.9.6"
  }
 },
 "nbformat": 4,
 "nbformat_minor": 5
}
