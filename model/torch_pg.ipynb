{
 "cells": [
  {
   "cell_type": "code",
   "execution_count": 1,
   "id": "8f7d10c3",
   "metadata": {},
   "outputs": [],
   "source": [
    "import torch\n",
    "import numpy as np"
   ]
  },
  {
   "cell_type": "code",
   "execution_count": 2,
   "id": "a7a49021",
   "metadata": {},
   "outputs": [
    {
     "data": {
      "text/plain": [
       "tensor([[1, 2],\n",
       "        [3, 4]])"
      ]
     },
     "execution_count": 2,
     "metadata": {},
     "output_type": "execute_result"
    }
   ],
   "source": [
    "data = [[1, 2], [3, 4]]\n",
    "x_data = torch.tensor(data)\n",
    "x_data"
   ]
  },
  {
   "cell_type": "code",
   "execution_count": 3,
   "id": "ae3911db",
   "metadata": {},
   "outputs": [
    {
     "name": "stdout",
     "output_type": "stream",
     "text": [
      "Ones tensor: tensor([[1, 1],\n",
      "        [1, 1]])\n",
      "Random tensor: tensor([[0.9297, 0.5550],\n",
      "        [0.3662, 0.0825]])\n"
     ]
    }
   ],
   "source": [
    "x_ones = torch.ones_like(x_data)\n",
    "print(f'Ones tensor: {x_ones}')\n",
    "\n",
    "x_rand = torch.rand_like(x_data, dtype=torch.float)\n",
    "print(f'Random tensor: {x_rand}')"
   ]
  },
  {
   "cell_type": "code",
   "execution_count": 15,
   "id": "522d354a",
   "metadata": {},
   "outputs": [
    {
     "name": "stdout",
     "output_type": "stream",
     "text": [
      "Random tensor with shape (2, 4):\n",
      " tensor([[0.2501, 0.2947, 0.4492, 0.8659],\n",
      "        [0.3582, 0.9465, 0.6559, 0.8453]])\n",
      "\n",
      "First row of the tensor: tensor([0.2501, 0.2947, 0.4492, 0.8659])\n",
      "First column of the tensor: tensor([0.2501, 0.3582])\n",
      "First element of the tensor: 0.25006914138793945\n",
      "Last column of the tensor: tensor([0.8659, 0.8453])\n"
     ]
    }
   ],
   "source": [
    "shape = (2, 4)\n",
    "rand_tensor = torch.rand(shape)\n",
    "print(f'Random tensor with shape {shape}:\\n {rand_tensor}')\n",
    "\n",
    "print(f'\\nFirst row of the tensor: {rand_tensor[0]}')\n",
    "print(f'First column of the tensor: {rand_tensor[:, 0]}')\n",
    "print(f'First element of the tensor: {rand_tensor[0, 0]}')\n",
    "print(f'Last column of the tensor: {rand_tensor[..., -1]}')"
   ]
  },
  {
   "cell_type": "code",
   "execution_count": 35,
   "id": "0b18593c",
   "metadata": {},
   "outputs": [
    {
     "data": {
      "text/plain": [
       "tensor([[0.2501, 0.2947, 0.4492, 0.8659, 0.2501, 0.2947, 0.4492, 0.8659],\n",
       "        [0.3582, 0.9465, 0.6559, 0.8453, 0.3582, 0.9465, 0.6559, 0.8453]])"
      ]
     },
     "execution_count": 35,
     "metadata": {},
     "output_type": "execute_result"
    }
   ],
   "source": [
    "torch.cat([rand_tensor, rand_tensor], dim=1)"
   ]
  },
  {
   "cell_type": "code",
   "execution_count": 36,
   "id": "5b2ae875",
   "metadata": {},
   "outputs": [
    {
     "data": {
      "text/plain": [
       "tensor([[0.8610, 0.3298, 0.8313, 0.2718],\n",
       "        [0.7871, 0.8275, 0.3418, 0.0104],\n",
       "        [0.6685, 0.6715, 0.0333, 0.2026]])"
      ]
     },
     "execution_count": 36,
     "metadata": {},
     "output_type": "execute_result"
    }
   ],
   "source": [
    "tensor = torch.rand(3, 4)\n",
    "\n",
    "y1 = tensor @ tensor.T\n",
    "y2 = tensor.matmul(tensor.T)\n",
    "\n",
    "y3 = torch.rand_like(y1)\n",
    "torch.matmul(tensor, tensor.T, out=y3)\n",
    "\n",
    "z1 = tensor * tensor\n",
    "z2 = tensor.mul(tensor)\n",
    "\n",
    "z3 = torch.rand_like(tensor)\n",
    "torch.mul(tensor, tensor, out=z3)"
   ]
  },
  {
   "cell_type": "code",
   "execution_count": 37,
   "id": "afb7df75",
   "metadata": {},
   "outputs": [
    {
     "name": "stdout",
     "output_type": "stream",
     "text": [
      "Aggregate function: 7.6881794929504395\n",
      "Aggregate function item and type: 7.6881794929504395 <class 'float'>\n"
     ]
    }
   ],
   "source": [
    "agg = tensor.sum().item()\n",
    "print(f'Aggregate function: {agg}')\n",
    "\n",
    "print(f'Aggregate function item and type: {agg} {type(agg)}')"
   ]
  }
 ],
 "metadata": {
  "kernelspec": {
   "display_name": ".venv",
   "language": "python",
   "name": "python3"
  },
  "language_info": {
   "codemirror_mode": {
    "name": "ipython",
    "version": 3
   },
   "file_extension": ".py",
   "mimetype": "text/x-python",
   "name": "python",
   "nbconvert_exporter": "python",
   "pygments_lexer": "ipython3",
   "version": "3.13.2"
  }
 },
 "nbformat": 4,
 "nbformat_minor": 5
}
